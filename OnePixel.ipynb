{
 "cells": [
  {
   "cell_type": "code",
   "execution_count": 1,
   "id": "c2bb3839-a27e-4170-8194-df80185220da",
   "metadata": {},
   "outputs": [],
   "source": [
    "import tensorflow as tf\n",
    "import os\n",
    "import numpy as np\n",
    "from tensorflow import keras\n",
    "from tensorflow.keras.datasets import mnist\n",
    "import matplotlib.pyplot as plt\n",
    "from sklearn.model_selection import train_test_split\n",
    "import cv2\n",
    "# import scipy \n"
   ]
  },
  {
   "cell_type": "code",
   "execution_count": 2,
   "id": "1749af7f-91f9-4640-9834-9085956f2a94",
   "metadata": {},
   "outputs": [],
   "source": [
    "# print(scipy.__version__)"
   ]
  },
  {
   "cell_type": "code",
   "execution_count": 3,
   "id": "eb4619b3-6bac-46d5-b6e4-99df34cab0e9",
   "metadata": {},
   "outputs": [
    {
     "name": "stdout",
     "output_type": "stream",
     "text": [
      "[PhysicalDevice(name='/physical_device:CPU:0', device_type='CPU'), PhysicalDevice(name='/physical_device:GPU:0', device_type='GPU')]\n",
      "2.15.0\n"
     ]
    }
   ],
   "source": [
    "print(tf.config.list_physical_devices())\n",
    "print(tf.__version__)"
   ]
  },
  {
   "cell_type": "code",
   "execution_count": 4,
   "id": "642174b0-1049-40e2-81e9-cfd2f26f6836",
   "metadata": {},
   "outputs": [],
   "source": [
    "# pathh = 'MNISTClassifier'\n",
    "\n",
    "# for parent, dirs, files in os.walk(pathh, topdown=False):\n",
    "#   for file in files:\n",
    "#     file_path = os.path.join(parent, file)\n",
    "#     os.remove(file_path)\n",
    "#   for dir in dirs:\n",
    "#     dir_path = os.path.join(parent, dir)\n",
    "#     os.rmdir(dir_path)\n",
    "\n",
    "# os.rmdir('./MNISTClassifier')"
   ]
  },
  {
   "cell_type": "code",
   "execution_count": 5,
   "id": "55bb948b-6f34-4acb-bdb2-ca471321d862",
   "metadata": {},
   "outputs": [],
   "source": [
    "# (images, labels), (test_images, test_labels) = mnist.load_data()\n",
    "# images = images.reshape((60000, 28, 28)).astype(\"float32\") / 255\n",
    "# images = np.expand_dims(images, axis=3)\n",
    "# test_images = test_images.reshape((10000, 28, 28)).astype(\"float32\") / 255\n",
    "# test_images = np.expand_dims(test_images, axis=3)\n",
    "# x_train, x_test = images[10000:], images[:10000]\n",
    "# y_train, y_test = labels[10000:], labels[:10000]"
   ]
  },
  {
   "cell_type": "code",
   "execution_count": 6,
   "id": "577b6e5f-ce03-406b-a467-c5d10e4faa08",
   "metadata": {},
   "outputs": [],
   "source": [
    "(train_images, train_labels), (test_images, test_labels) = mnist.load_data()\n",
    "train_images = train_images.reshape((60000, 28, 28)).astype(\"float32\") / 255\n",
    "test_images = test_images.reshape((10000, 28, 28)).astype(\"float32\") / 255\n",
    "# x_train, x_test = images, test_images\n",
    "# y_train, y_test = labels, test_labels"
   ]
  },
  {
   "cell_type": "code",
   "execution_count": 7,
   "id": "6d091115-b2e9-4507-8f1b-11b807fdfd11",
   "metadata": {},
   "outputs": [
    {
     "data": {
      "text/plain": [
       "(60000, 28, 28)"
      ]
     },
     "execution_count": 7,
     "metadata": {},
     "output_type": "execute_result"
    }
   ],
   "source": [
    "train_images.shape"
   ]
  },
  {
   "cell_type": "code",
   "execution_count": 8,
   "id": "1f5d1763-a2ea-4b9c-99bd-042becdceded",
   "metadata": {},
   "outputs": [],
   "source": [
    "train_images = np.asarray([cv2.cvtColor(im, cv2.COLOR_GRAY2RGB) for im in train_images])\n",
    "test_images = np.asarray([cv2.cvtColor(im, cv2.COLOR_GRAY2RGB) for im in test_images])"
   ]
  },
  {
   "cell_type": "code",
   "execution_count": 9,
   "id": "873505c9-2dc1-466d-8218-e93982036325",
   "metadata": {},
   "outputs": [],
   "source": [
    "train_images = [cv2.resize(im, (64, 64), interpolation=cv2.INTER_NEAREST) for im in train_images]\n",
    "train_images = np.asarray(train_images)\n"
   ]
  },
  {
   "cell_type": "code",
   "execution_count": 10,
   "id": "1dc480cf-6a11-4794-aac3-7a45c0742277",
   "metadata": {},
   "outputs": [],
   "source": [
    "test_images = [cv2.resize(im, (64, 64), interpolation=cv2.INTER_NEAREST) for im in test_images]\n",
    "test_images = np.asarray(test_images)\n"
   ]
  },
  {
   "cell_type": "code",
   "execution_count": 11,
   "id": "a0567bcc-a04d-46ef-827c-8484714b43ef",
   "metadata": {},
   "outputs": [
    {
     "name": "stdout",
     "output_type": "stream",
     "text": [
      "(60000, 64, 64, 3) (10000, 64, 64, 3)\n"
     ]
    }
   ],
   "source": [
    "print(train_images.shape, test_images.shape)"
   ]
  },
  {
   "cell_type": "code",
   "execution_count": 12,
   "id": "45176349-d24f-4800-a7d2-3b5e19c0daae",
   "metadata": {},
   "outputs": [],
   "source": [
    "# train_images = np.asarray([np.expand_dims(x, axis=2) for x in train_images])\n",
    "# test_images = np.asarray([np.expand_dims(x, axis=2) for x in test_images])"
   ]
  },
  {
   "cell_type": "code",
   "execution_count": 13,
   "id": "db616937-8937-4e30-acbc-faf300f8bc3b",
   "metadata": {},
   "outputs": [
    {
     "name": "stdout",
     "output_type": "stream",
     "text": [
      "x_train.shape (60000, 64, 64, 3)\n",
      "y_train.shape (60000, 64, 64, 3)\n"
     ]
    }
   ],
   "source": [
    "print('x_train.shape', train_images.shape)\n",
    "print('y_train.shape', train_images.shape)\n"
   ]
  },
  {
   "cell_type": "code",
   "execution_count": 14,
   "id": "96243f89-9c7e-434e-828e-1575e0db5908",
   "metadata": {},
   "outputs": [
    {
     "data": {
      "text/plain": [
       "(70000, 64, 64, 3)"
      ]
     },
     "execution_count": 14,
     "metadata": {},
     "output_type": "execute_result"
    }
   ],
   "source": [
    "full_dataset = np.concatenate((train_images, test_images), axis=0)\n",
    "full_dataset.shape"
   ]
  },
  {
   "cell_type": "code",
   "execution_count": 15,
   "id": "6830ecf6-2f3b-46d0-823c-2170e42b45e1",
   "metadata": {},
   "outputs": [
    {
     "data": {
      "text/plain": [
       "(70000, 64, 64, 3)"
      ]
     },
     "execution_count": 15,
     "metadata": {},
     "output_type": "execute_result"
    }
   ],
   "source": [
    "full_dataset.shape"
   ]
  },
  {
   "cell_type": "code",
   "execution_count": 16,
   "id": "394f6a8d-1450-4c5c-bbcd-4e22c353a2ef",
   "metadata": {},
   "outputs": [
    {
     "data": {
      "text/plain": [
       "(70000,)"
      ]
     },
     "execution_count": 16,
     "metadata": {},
     "output_type": "execute_result"
    }
   ],
   "source": [
    "full_dataset_label = np.concatenate((train_labels, test_labels), axis=0)\n",
    "full_dataset_label.shape"
   ]
  },
  {
   "cell_type": "code",
   "execution_count": 17,
   "id": "d7dc5d17-59c8-440e-9be5-bd8dd85abb95",
   "metadata": {},
   "outputs": [],
   "source": [
    "# x_test, y_test = test_images, test_labels"
   ]
  },
  {
   "cell_type": "code",
   "execution_count": 18,
   "id": "f7b53da8-7634-418a-b325-02cc9a8cf93e",
   "metadata": {},
   "outputs": [],
   "source": [
    "# x_train, x_val, y_train, y_val = train_test_split(train_images, train_labels, random_state=104, test_size=0.166655, shuffle=True)"
   ]
  },
  {
   "cell_type": "code",
   "execution_count": 17,
   "id": "ca0366f0-f809-46ea-bd7d-5ac67cc09a02",
   "metadata": {},
   "outputs": [],
   "source": [
    "x_train, x_test, y_train, y_test = train_test_split(full_dataset,full_dataset_label, random_state=104, test_size=0.1, shuffle=True )"
   ]
  },
  {
   "cell_type": "code",
   "execution_count": 18,
   "id": "f535380f-7bca-48a6-a29f-17634cc64a49",
   "metadata": {},
   "outputs": [
    {
     "name": "stdout",
     "output_type": "stream",
     "text": [
      "x_train.shape (63000, 64, 64, 3)\n",
      "y_train.shape (63000,)\n",
      "x_test.shape (7000, 64, 64, 3)\n",
      "y_test.shape (7000,)\n"
     ]
    }
   ],
   "source": [
    "print('x_train.shape', x_train.shape)\n",
    "print('y_train.shape', y_train.shape)\n",
    "# print('x_val.shape', x_val.shape)\n",
    "# print('y_val.shape', y_val.shape)\n",
    "print('x_test.shape', x_test.shape)\n",
    "print('y_test.shape', y_test.shape)"
   ]
  },
  {
   "cell_type": "code",
   "execution_count": 19,
   "id": "988b0e7b-480b-43f9-848e-367d9ea21d33",
   "metadata": {
    "scrolled": true
   },
   "outputs": [
    {
     "name": "stdout",
     "output_type": "stream",
     "text": [
      "(64, 64, 3)\n"
     ]
    },
    {
     "data": {
      "text/plain": [
       "<matplotlib.image.AxesImage at 0x107931a10>"
      ]
     },
     "execution_count": 19,
     "metadata": {},
     "output_type": "execute_result"
    },
    {
     "data": {
      "image/png": "[encoded data removed]",
      "text/plain": [
       "<Figure size 640x480 with 1 Axes>"
      ]
     },
     "metadata": {},
     "output_type": "display_data"
    }
   ],
   "source": [
    "x_test_43 = x_test[35]\n",
    "\n",
    "print(x_test_43.shape)\n",
    "digit = x_test_43\n",
    "fig = plt.figure\n",
    "plt.imshow(digit)\n",
    "# print(x_test_43)\n",
    "\n",
    "#twos are located at [(1, 2), (35, 2), (38, 2), (43, 2), (47, 2), (72, 2), (77, 2), (82, 2), (106, 2), (119, 2)]"
   ]
  },
  {
   "cell_type": "code",
   "execution_count": 20,
   "id": "3726dcc2-11b7-4aed-be74-142fad475fb8",
   "metadata": {},
   "outputs": [],
   "source": [
    "# x_test_43 = x_test[35]\n",
    "# x_test_43"
   ]
  },
  {
   "cell_type": "code",
   "execution_count": 21,
   "id": "e3983806-2820-4e3f-bc1f-d6cbe0bf60f8",
   "metadata": {},
   "outputs": [
    {
     "name": "stdout",
     "output_type": "stream",
     "text": [
      "[(11, 2), (20, 2), (24, 2), (37, 2), (46, 2), (56, 2), (60, 2), (65, 2), (68, 2), (78, 2)]\n"
     ]
    }
   ],
   "source": [
    "few_twos = []\n",
    "count = 0\n",
    "for index, label in enumerate(y_test):\n",
    "  if count > 9:\n",
    "    break\n",
    "  if label == 2:\n",
    "    few_twos.append((index, label))\n",
    "    count += 1\n",
    "\n",
    "print(few_twos)\n",
    "#select labels that are digit 2"
   ]
  },
  {
   "cell_type": "markdown",
   "id": "f7f8c55b-17f9-4256-afab-f717c90251d7",
   "metadata": {},
   "source": [
    "# Networks"
   ]
  },
  {
   "cell_type": "markdown",
   "id": "2780e079-4a23-43f4-84eb-dbd5fb8f0d6d",
   "metadata": {},
   "source": [
    "## Custom"
   ]
  },
  {
   "cell_type": "code",
   "execution_count": 22,
   "id": "ff3ca197-1f73-4cd8-9778-2e684fa59a87",
   "metadata": {},
   "outputs": [],
   "source": [
    "class MNISTClassifier(tf.keras.Model):\n",
    "    def __init__(self):\n",
    "        super(MNISTClassifier, self).__init__()\n",
    "\n",
    "        # Define the layers\n",
    "        #for feature extration\n",
    "        self.conv1 = tf.keras.layers.Conv2D(32, kernel_size=(3, 3), activation='relu', input_shape=(64, 64, 3))\n",
    "        self.max_pool1 = tf.keras.layers.MaxPooling2D(pool_size=(2, 2))\n",
    "        self.conv2 = tf.keras.layers.Conv2D(64, kernel_size=(3, 3), activation='relu')\n",
    "        self.max_pool2 = tf.keras.layers.MaxPooling2D(pool_size=(2, 2))\n",
    "        self.dropout1 = tf.keras.layers.Dropout(0.25)\n",
    "        self.flatten = tf.keras.layers.Flatten()\n",
    "        self.dense1 = tf.keras.layers.Dense(128, activation='sigmoid')#might reduce over fitting\n",
    "        self.dropout2 = tf.keras.layers.Dropout(0.5)\n",
    "        self.dense2 = tf.keras.layers.Dense(10)\n",
    "        self.layers_list = [self.conv1,self.max_pool1, self.conv2,self.max_pool2, self.dropout1,\n",
    "                           self.flatten, self.dense1, self.dropout2, self.dense2]\n",
    "    \n",
    "    @tf.function\n",
    "    def call(self, *args, **kwargs):\n",
    "        # Define the forward pass\n",
    "        # output is the model logits\n",
    "        activation_list = []\n",
    "        out = args[0]\n",
    "        for layer in self.layers_list:\n",
    "           out = layer(out)\n",
    "           activation_list.append(out)\n",
    "\n",
    "        if kwargs['training']:\n",
    "          #notice that training is a kw argument checked when fit is called\n",
    "          #so when model is training, all I need is the output logits to call the loss function upon\n",
    "          return out\n",
    "        else:\n",
    "          prob = tf.nn.softmax(out)\n",
    "          return out, prob"
   ]
  },
  {
   "cell_type": "markdown",
   "id": "d0b0939c-b47c-4445-af41-931cb144cd21",
   "metadata": {},
   "source": [
    "## Backbone Networks"
   ]
  },
  {
   "cell_type": "code",
   "execution_count": 23,
   "id": "1004972a-8097-4ff3-88eb-95a0f284a0e3",
   "metadata": {},
   "outputs": [],
   "source": [
    "from tensorflow.keras.applications import VGG16\n",
    "from keras.applications.vgg16 import preprocess_input"
   ]
  },
  {
   "cell_type": "code",
   "execution_count": 24,
   "id": "7e009ea9-ff24-4198-8b58-5718e927cc3f",
   "metadata": {},
   "outputs": [],
   "source": [
    "class VGG16model(tf.keras.Model):\n",
    "    def __init__(self, base_model):\n",
    "        super(VGG16model, self).__init__()\n",
    "        #instantiate base model\n",
    "        self.base_model = base_model\n",
    "        self.flatten = tf.keras.layers.Flatten()\n",
    "        self.dense1 = tf.keras.layers.Dense(128, activation='relu')\n",
    "        self.dense2 = tf.keras.layers.Dense(10)\n",
    "        self.layers_list = [self.base_model, self.flatten, self.dense1, self.dense2]\n",
    "\n",
    "    @tf.function\n",
    "    def call(self, *args, **kwargs):\n",
    "        # Define the forward pass\n",
    "        # output is the model logits\n",
    "        activation_list = []\n",
    "        out = args[0]\n",
    "        for layer in self.layers_list:\n",
    "           out = layer(out)\n",
    "           activation_list.append(out)\n",
    "\n",
    "        if kwargs['training']:\n",
    "          #notice that training is a kw argument checked when fit is called\n",
    "          #so when model is training, all I need is the output logits to call the loss function upon\n",
    "          return out\n",
    "        else:\n",
    "          prob = tf.nn.softmax(out)\n",
    "          return out, prob\n",
    "    "
   ]
  },
  {
   "cell_type": "code",
   "execution_count": 25,
   "id": "c4398aef-2a01-427e-8b61-79d27c84a38b",
   "metadata": {},
   "outputs": [
    {
     "name": "stderr",
     "output_type": "stream",
     "text": [
      "2024-03-14 10:59:13.618933: I metal_plugin/src/device/metal_device.cc:1154] Metal device set to: Apple M2 Max\n",
      "2024-03-14 10:59:13.618958: I metal_plugin/src/device/metal_device.cc:296] systemMemory: 64.00 GB\n",
      "2024-03-14 10:59:13.618962: I metal_plugin/src/device/metal_device.cc:313] maxCacheSize: 24.00 GB\n",
      "2024-03-14 10:59:13.618996: I tensorflow/core/common_runtime/pluggable_device/pluggable_device_factory.cc:306] Could not identify NUMA node of platform GPU ID 0, defaulting to 0. Your kernel may not have been built with NUMA support.\n",
      "2024-03-14 10:59:13.619013: I tensorflow/core/common_runtime/pluggable_device/pluggable_device_factory.cc:272] Created TensorFlow device (/job:localhost/replica:0/task:0/device:GPU:0 with 0 MB memory) -> physical PluggableDevice (device: 0, name: METAL, pci bus id: <undefined>)\n"
     ]
    }
   ],
   "source": [
    "input_layer = tf.keras.layers.Input(shape=(64, 64, 3))\n",
    "base_model = VGG16(weights='imagenet',input_tensor=input_layer,include_top=False)\n",
    "base_model.trainable = False\n",
    "\n"
   ]
  },
  {
   "cell_type": "code",
   "execution_count": 26,
   "id": "923b67e8-60a8-4e1a-b741-4977478386aa",
   "metadata": {},
   "outputs": [
    {
     "name": "stdout",
     "output_type": "stream",
     "text": [
      "Model: \"vgg16\"\n",
      "_________________________________________________________________\n",
      " Layer (type)                Output Shape              Param #   \n",
      "=================================================================\n",
      " input_1 (InputLayer)        [(None, 64, 64, 3)]       0         \n",
      "                                                                 \n",
      " block1_conv1 (Conv2D)       (None, 64, 64, 64)        1792      \n",
      "                                                                 \n",
      " block1_conv2 (Conv2D)       (None, 64, 64, 64)        36928     \n",
      "                                                                 \n",
      " block1_pool (MaxPooling2D)  (None, 32, 32, 64)        0         \n",
      "                                                                 \n",
      " block2_conv1 (Conv2D)       (None, 32, 32, 128)       73856     \n",
      "                                                                 \n",
      " block2_conv2 (Conv2D)       (None, 32, 32, 128)       147584    \n",
      "                                                                 \n",
      " block2_pool (MaxPooling2D)  (None, 16, 16, 128)       0         \n",
      "                                                                 \n",
      " block3_conv1 (Conv2D)       (None, 16, 16, 256)       295168    \n",
      "                                                                 \n",
      " block3_conv2 (Conv2D)       (None, 16, 16, 256)       590080    \n",
      "                                                                 \n",
      " block3_conv3 (Conv2D)       (None, 16, 16, 256)       590080    \n",
      "                                                                 \n",
      " block3_pool (MaxPooling2D)  (None, 8, 8, 256)         0         \n",
      "                                                                 \n",
      " block4_conv1 (Conv2D)       (None, 8, 8, 512)         1180160   \n",
      "                                                                 \n",
      " block4_conv2 (Conv2D)       (None, 8, 8, 512)         2359808   \n",
      "                                                                 \n",
      " block4_conv3 (Conv2D)       (None, 8, 8, 512)         2359808   \n",
      "                                                                 \n",
      " block4_pool (MaxPooling2D)  (None, 4, 4, 512)         0         \n",
      "                                                                 \n",
      " block5_conv1 (Conv2D)       (None, 4, 4, 512)         2359808   \n",
      "                                                                 \n",
      " block5_conv2 (Conv2D)       (None, 4, 4, 512)         2359808   \n",
      "                                                                 \n",
      " block5_conv3 (Conv2D)       (None, 4, 4, 512)         2359808   \n",
      "                                                                 \n",
      " block5_pool (MaxPooling2D)  (None, 2, 2, 512)         0         \n",
      "                                                                 \n",
      "=================================================================\n",
      "Total params: 14714688 (56.13 MB)\n",
      "Trainable params: 0 (0.00 Byte)\n",
      "Non-trainable params: 14714688 (56.13 MB)\n",
      "_________________________________________________________________\n"
     ]
    }
   ],
   "source": [
    "base_model.summary()"
   ]
  },
  {
   "cell_type": "markdown",
   "id": "76b16a28-62e8-4305-b248-2f92d9f4c33a",
   "metadata": {},
   "source": [
    "## Model fit and saving"
   ]
  },
  {
   "cell_type": "code",
   "execution_count": 27,
   "id": "ee28a487-4bd4-4ed5-9f3f-d7fe4e37f5f5",
   "metadata": {},
   "outputs": [],
   "source": [
    "class SavefinalTrainingLogitsProp(keras.callbacks.Callback):\n",
    "    def on_train_end(self, logs):\n",
    "        self.out = model.predict(x_train)\n",
    "        self.prob = tf.nn.softmax(self.out)\n",
    "        print(self.out.shape, self.prob.shape)"
   ]
  },
  {
   "cell_type": "code",
   "execution_count": 28,
   "id": "65d8d56e-6500-4af5-875a-dc38a7013896",
   "metadata": {},
   "outputs": [],
   "source": [
    "def plot_loss_acc(train_metric_values, val_metric_values, type=None, plt_title=None):\n",
    "    epochs = range(1, len(train_metric_values) +1)\n",
    "    plt.plot(epochs, train_metric_values, 'bo', label=f'Training {type}')\n",
    "    plt.plot(epochs, val_metric_values, 'b', label=f'validation {type}')\n",
    "    plt.title(plt_title)\n",
    "    plt.xlabel('Epochs')\n",
    "    plt.ylabel(f'{type}')\n",
    "    plt.legend()\n",
    "    plt.show()\n",
    "    \n",
    "    "
   ]
  },
  {
   "cell_type": "code",
   "execution_count": 29,
   "id": "8c5f5cb4-5ddd-4610-aa73-7431492113c7",
   "metadata": {},
   "outputs": [
    {
     "name": "stdout",
     "output_type": "stream",
     "text": [
      "Epoch 1/10\n",
      "   1/1575 [..............................] - ETA: 10:58 - loss: 2.8123 - accuracy: 0.1250"
     ]
    },
    {
     "name": "stderr",
     "output_type": "stream",
     "text": [
      "2024-03-14 10:59:28.358582: I tensorflow/core/grappler/optimizers/custom_graph_optimizer_registry.cc:117] Plugin optimizer for device_type GPU is enabled.\n"
     ]
    },
    {
     "name": "stdout",
     "output_type": "stream",
     "text": [
      "1575/1575 [==============================] - 15s 10ms/step - loss: 0.1965 - accuracy: 0.9441 - val_loss: 0.0767 - val_accuracy: 0.9773\n",
      "Epoch 2/10\n",
      "1575/1575 [==============================] - 15s 9ms/step - loss: 0.0798 - accuracy: 0.9761 - val_loss: 0.0575 - val_accuracy: 0.9823\n",
      "Epoch 3/10\n",
      "1575/1575 [==============================] - 15s 9ms/step - loss: 0.0567 - accuracy: 0.9833 - val_loss: 0.0487 - val_accuracy: 0.9853\n",
      "Epoch 4/10\n",
      "1575/1575 [==============================] - 15s 9ms/step - loss: 0.0455 - accuracy: 0.9863 - val_loss: 0.0557 - val_accuracy: 0.9837\n",
      "Epoch 5/10\n",
      "1575/1575 [==============================] - 15s 9ms/step - loss: 0.0368 - accuracy: 0.9892 - val_loss: 0.0463 - val_accuracy: 0.9857\n",
      "Epoch 6/10\n",
      "1575/1575 [==============================] - 15s 9ms/step - loss: 0.0307 - accuracy: 0.9907 - val_loss: 0.0455 - val_accuracy: 0.9862\n",
      "Epoch 7/10\n",
      "1575/1575 [==============================] - 15s 9ms/step - loss: 0.0251 - accuracy: 0.9922 - val_loss: 0.0438 - val_accuracy: 0.9875\n",
      "Epoch 8/10\n",
      "1575/1575 [==============================] - 15s 9ms/step - loss: 0.0228 - accuracy: 0.9925 - val_loss: 0.0437 - val_accuracy: 0.9874\n",
      "Epoch 9/10\n",
      "1575/1575 [==============================] - 15s 9ms/step - loss: 0.0194 - accuracy: 0.9937 - val_loss: 0.0423 - val_accuracy: 0.9873\n",
      "Epoch 10/10\n",
      "1575/1575 [==============================] - 15s 9ms/step - loss: 0.0174 - accuracy: 0.9944 - val_loss: 0.0428 - val_accuracy: 0.9877\n"
     ]
    }
   ],
   "source": [
    "model_custom = MNISTClassifier()\n",
    "model_custom.compile(loss=tf.keras.losses.SparseCategoricalCrossentropy(from_logits=True),\n",
    "              optimizer=tf.keras.optimizers.legacy.Adam(learning_rate=0.001),\n",
    "              metrics=['accuracy'])\n",
    "\n",
    "custom_history = model_custom.fit(x_train, y_train, epochs=10, validation_split=0.2)\n",
    "# model_custom.save('MNISTClassifier')"
   ]
  },
  {
   "cell_type": "code",
   "execution_count": 30,
   "id": "c4bb6b3f-ba46-4700-86ec-ec84eb903378",
   "metadata": {},
   "outputs": [
    {
     "data": {
      "image/png": "[encoded data removed]",
      "text/plain": [
       "<Figure size 640x480 with 1 Axes>"
      ]
     },
     "metadata": {},
     "output_type": "display_data"
    }
   ],
   "source": [
    "loss_values = custom_history.history[\"loss\"]\n",
    "val_loss_values = custom_history.history[\"val_loss\"]\n",
    "plot_loss_acc(loss_values, val_loss_values, type='loss',  plt_title=\"Training and validation loss\")"
   ]
  },
  {
   "cell_type": "code",
   "execution_count": 31,
   "id": "d5cab74e-42f3-4e8d-84af-8ba6de547632",
   "metadata": {},
   "outputs": [
    {
     "data": {
      "image/png": "[encoded data removed]",
      "text/plain": [
       "<Figure size 640x480 with 1 Axes>"
      ]
     },
     "metadata": {},
     "output_type": "display_data"
    }
   ],
   "source": [
    "accuracy_values = custom_history.history[\"accuracy\"]\n",
    "val_accuracy_values = custom_history.history[\"val_accuracy\"]\n",
    "plot_loss_acc(accuracy_values, val_accuracy_values, type='accuracy',  plt_title=\"Training and validation loss\")"
   ]
  },
  {
   "cell_type": "code",
   "execution_count": 26,
   "id": "ec456b61-ddac-413d-bdb2-7fe9df00c0ba",
   "metadata": {},
   "outputs": [
    {
     "name": "stderr",
     "output_type": "stream",
     "text": [
      "WARNING:absl:At this time, the v2.11+ optimizer `tf.keras.optimizers.Adam` runs slowly on M1/M2 Macs, please use the legacy Keras optimizer instead, located at `tf.keras.optimizers.legacy.Adam`.\n"
     ]
    },
    {
     "name": "stdout",
     "output_type": "stream",
     "text": [
      "Epoch 1/10\n",
      "   5/1575 [..............................] - ETA: 22s - loss: 2.4827 - accuracy: 0.1125  "
     ]
    },
    {
     "name": "stderr",
     "output_type": "stream",
     "text": [
      "2024-03-11 13:43:50.622224: I tensorflow/core/grappler/optimizers/custom_graph_optimizer_registry.cc:117] Plugin optimizer for device_type GPU is enabled.\n",
      "2024-03-11 13:43:50.637995: E tensorflow/core/grappler/optimizers/meta_optimizer.cc:961] model_pruner failed: INVALID_ARGUMENT: Graph does not contain terminal node Adam/AssignAddVariableOp.\n"
     ]
    },
    {
     "name": "stdout",
     "output_type": "stream",
     "text": [
      "1575/1575 [==============================] - 35s 22ms/step - loss: 0.1793 - accuracy: 0.9481 - val_loss: 0.0968 - val_accuracy: 0.9685\n",
      "Epoch 2/10\n",
      "1575/1575 [==============================] - 34s 22ms/step - loss: 0.0746 - accuracy: 0.9756 - val_loss: 0.0721 - val_accuracy: 0.9763\n",
      "Epoch 3/10\n",
      "1575/1575 [==============================] - 34s 22ms/step - loss: 0.0618 - accuracy: 0.9801 - val_loss: 0.0977 - val_accuracy: 0.9692\n",
      "Epoch 4/10\n",
      "1575/1575 [==============================] - 35s 22ms/step - loss: 0.0511 - accuracy: 0.9834 - val_loss: 0.0718 - val_accuracy: 0.9769\n",
      "Epoch 5/10\n",
      "1575/1575 [==============================] - 35s 22ms/step - loss: 0.0436 - accuracy: 0.9864 - val_loss: 0.0819 - val_accuracy: 0.9750\n",
      "Epoch 6/10\n",
      "1575/1575 [==============================] - 35s 22ms/step - loss: 0.0396 - accuracy: 0.9874 - val_loss: 0.0537 - val_accuracy: 0.9837\n",
      "Epoch 7/10\n",
      "1575/1575 [==============================] - 34s 22ms/step - loss: 0.0364 - accuracy: 0.9885 - val_loss: 0.0524 - val_accuracy: 0.9848\n",
      "Epoch 8/10\n",
      "1575/1575 [==============================] - 34s 22ms/step - loss: 0.0311 - accuracy: 0.9902 - val_loss: 0.0498 - val_accuracy: 0.9856\n",
      "Epoch 9/10\n",
      "1575/1575 [==============================] - 35s 23ms/step - loss: 0.0310 - accuracy: 0.9896 - val_loss: 0.0531 - val_accuracy: 0.9843\n",
      "Epoch 10/10\n",
      "1575/1575 [==============================] - 35s 22ms/step - loss: 0.0324 - accuracy: 0.9896 - val_loss: 0.0564 - val_accuracy: 0.9833\n"
     ]
    }
   ],
   "source": [
    "model_vgg16 = VGG16model(base_model)\n",
    "model_vgg16.compile(loss=tf.keras.losses.SparseCategoricalCrossentropy(from_logits=True),\n",
    "              optimizer=tf.keras.optimizers.Adam(),\n",
    "              metrics=['accuracy'])\n",
    "\n",
    "vgg16_history = model_vgg16.fit(x_train, y_train, epochs=10, validation_split=0.2) \n",
    "# custom_history = model_custom.fit(x_train, y_train, epochs=10, validation_split=0.2)\n",
    "# model_vgg16.save('VGG16Classifier')"
   ]
  },
  {
   "cell_type": "markdown",
   "id": "25cfb261-2ee7-4169-b10b-8ca7e516c759",
   "metadata": {},
   "source": [
    "# Load model and make predictions"
   ]
  },
  {
   "cell_type": "markdown",
   "id": "5032f0cc-daf6-45cc-ae72-2dc841024607",
   "metadata": {},
   "source": [
    "## prepare images and labels"
   ]
  },
  {
   "cell_type": "code",
   "execution_count": 32,
   "id": "60f6ee82-42d7-4ee9-9951-df691d8a17b8",
   "metadata": {},
   "outputs": [
    {
     "name": "stdout",
     "output_type": "stream",
     "text": [
      "a_two.shape (64, 64, 3)\n",
      "a_two.shape (1, 64, 64, 3)\n",
      "a_two.shape (64, 64, 3)\n",
      "a_two.shape (1, 64, 64, 3)\n",
      "a_two.shape (64, 64, 3)\n",
      "a_two.shape (1, 64, 64, 3)\n",
      "a_two.shape (64, 64, 3)\n",
      "a_two.shape (1, 64, 64, 3)\n",
      "a_two.shape (64, 64, 3)\n",
      "a_two.shape (1, 64, 64, 3)\n",
      "a_two.shape (64, 64, 3)\n",
      "a_two.shape (1, 64, 64, 3)\n",
      "a_two.shape (64, 64, 3)\n",
      "a_two.shape (1, 64, 64, 3)\n",
      "a_two.shape (64, 64, 3)\n",
      "a_two.shape (1, 64, 64, 3)\n",
      "a_two.shape (64, 64, 3)\n",
      "a_two.shape (1, 64, 64, 3)\n",
      "a_two.shape (64, 64, 3)\n",
      "a_two.shape (1, 64, 64, 3)\n"
     ]
    }
   ],
   "source": [
    "twos_tupple = [(11, 2), (20, 2), (24, 2), (37, 2), (46, 2), (56, 2), (60, 2), (65, 2), (68, 2), (78, 2)]\n",
    "reshaped_sample_twos = []\n",
    "class_arr = []\n",
    "\n",
    "for tup in twos_tupple:\n",
    "    a_two = x_test[tup[0]]\n",
    "    print('a_two.shape', a_two.shape)\n",
    "    a_two = np.reshape(a_two, (-1, 64, 64, 3))\n",
    "    print('a_two.shape', a_two.shape)\n",
    "    a_two_label = y_test[tup[0]]\n",
    "    a_two_label = tf.convert_to_tensor(a_two_label)\n",
    "    class_arr.append(a_two_label)\n",
    "    # print(a_two_label)\n",
    "    reshaped_sample_twos.append(a_two)\n",
    "reshaped_sample_twos = np.array(reshaped_sample_twos)"
   ]
  },
  {
   "cell_type": "code",
   "execution_count": 33,
   "id": "6a5cd99c-7889-4b0d-9bc7-45b0d684f1e3",
   "metadata": {},
   "outputs": [
    {
     "name": "stdout",
     "output_type": "stream",
     "text": [
      "2\n"
     ]
    }
   ],
   "source": [
    "print(y_test[37])"
   ]
  },
  {
   "cell_type": "code",
   "execution_count": 35,
   "id": "ab29748b-d7f4-4cf3-94e9-450b5835f2c1",
   "metadata": {},
   "outputs": [
    {
     "data": {
      "text/plain": [
       "-29.941143"
      ]
     },
     "execution_count": 35,
     "metadata": {},
     "output_type": "execute_result"
    }
   ],
   "source": [
    "one_reshaped = reshaped_sample_twos[0]\n",
    "np.sum(model_custom(one_reshaped)[0])"
   ]
  },
  {
   "cell_type": "code",
   "execution_count": 37,
   "id": "af474c15-0cf1-4054-a59e-2dc75bdb29d5",
   "metadata": {},
   "outputs": [
    {
     "name": "stdout",
     "output_type": "stream",
     "text": [
      "sample_prediction (<tf.Tensor: shape=(1, 10), dtype=float32, numpy=\n",
      "array([[ -6.1311455,   1.4345764,  10.807065 ,  -1.413912 ,  -6.949984 ,\n",
      "        -11.085559 ,  -6.404814 ,  -1.4455974,  -2.2879481,  -6.4638224]],\n",
      "      dtype=float32)>, <tf.Tensor: shape=(1, 10), dtype=float32, numpy=\n",
      "array([[4.4033879e-08, 8.5023232e-05, 9.9990308e-01, 4.9255536e-06,\n",
      "        1.9416422e-08, 3.1053612e-10, 3.3491414e-08, 4.7719304e-06,\n",
      "        2.0552570e-06, 3.1572341e-08]], dtype=float32)>)\n",
      "sample_prediction (<tf.Tensor: shape=(1, 10), dtype=float32, numpy=\n",
      "array([[-6.698096  , -3.1050892 ,  6.4013247 , -0.25149247, -5.10584   ,\n",
      "        -7.2670617 , -8.841947  ,  0.33578825,  1.5330733 , -0.04154588]],\n",
      "      dtype=float32)>, <tf.Tensor: shape=(1, 10), dtype=float32, numpy=\n",
      "array([[2.0201969e-06, 7.3420350e-05, 9.8718786e-01, 1.2738489e-03,\n",
      "        9.9289091e-06, 1.1436548e-06, 2.3677255e-07, 2.2917683e-03,\n",
      "        7.5883102e-03, 1.5714357e-03]], dtype=float32)>)\n",
      "sample_prediction (<tf.Tensor: shape=(1, 10), dtype=float32, numpy=\n",
      "array([[-2.9531145 , -2.556115  ,  8.705501  , -1.2677779 , -0.21848907,\n",
      "        -9.55026   , -8.500826  , -3.163439  , -4.8972692 , -2.9112215 ]],\n",
      "      dtype=float32)>, <tf.Tensor: shape=(1, 10), dtype=float32, numpy=\n",
      "array([[8.6423697e-06, 1.2854273e-05, 9.9978155e-01, 4.6619269e-05,\n",
      "        1.3312687e-04, 1.1790417e-08, 3.3673857e-08, 7.0030978e-06,\n",
      "        1.2367934e-06, 9.0121157e-06]], dtype=float32)>)\n",
      "sample_prediction (<tf.Tensor: shape=(1, 10), dtype=float32, numpy=\n",
      "array([[-4.57974   , -2.8754134 ,  7.3265767 , -2.3622706 , -6.5658555 ,\n",
      "        -9.192358  , -7.887462  ,  2.5527234 ,  0.32609802, -5.016143  ]],\n",
      "      dtype=float32)>, <tf.Tensor: shape=(1, 10), dtype=float32, numpy=\n",
      "array([[6.6843418e-06, 3.6748388e-05, 9.9061829e-01, 6.1389386e-05,\n",
      "        9.1727514e-07, 6.6347461e-08, 2.4464322e-07, 8.3685098e-03,\n",
      "        9.0289448e-04, 4.3204714e-06]], dtype=float32)>)\n",
      "sample_prediction (<tf.Tensor: shape=(1, 10), dtype=float32, numpy=\n",
      "array([[ -6.5780625 ,   0.7033671 ,  11.285846  ,  -0.22248808,\n",
      "         -3.2968047 , -10.225636  ,  -6.7093515 ,  -1.5318061 ,\n",
      "         -3.275391  ,  -3.5896163 ]], dtype=float32)>, <tf.Tensor: shape=(1, 10), dtype=float32, numpy=\n",
      "array([[1.7449613e-08, 2.5355419e-05, 9.9996054e-01, 1.0045621e-05,\n",
      "        4.6432098e-07, 4.5463702e-10, 1.5302696e-08, 2.7123606e-06,\n",
      "        4.7437064e-07, 3.4645907e-07]], dtype=float32)>)\n",
      "sample_prediction (<tf.Tensor: shape=(1, 10), dtype=float32, numpy=\n",
      "array([[-2.008572  , -1.3165859 , 11.298438  , -0.7931979 , -6.888967  ,\n",
      "        -9.732476  , -8.515638  , -0.22717527, -1.7544702 , -4.7039857 ]],\n",
      "      dtype=float32)>, <tf.Tensor: shape=(1, 10), dtype=float32, numpy=\n",
      "array([[1.66275697e-06, 3.32165791e-06, 9.99977231e-01, 5.60608123e-06,\n",
      "        1.26270123e-08, 7.35156880e-10, 2.48225507e-09, 9.87369276e-06,\n",
      "        2.14379952e-06, 1.12260125e-07]], dtype=float32)>)\n",
      "sample_prediction (<tf.Tensor: shape=(1, 10), dtype=float32, numpy=\n",
      "array([[-3.0595677, -1.2619883,  8.903657 ,  1.597073 , -7.957865 ,\n",
      "        -9.7527075, -9.235694 ,  1.6430895, -3.0227933, -5.098069 ]],\n",
      "      dtype=float32)>, <tf.Tensor: shape=(1, 10), dtype=float32, numpy=\n",
      "array([[6.3652974e-06, 3.8414681e-05, 9.9857593e-01, 6.7014998e-04,\n",
      "        4.7480448e-08, 7.8890539e-09, 1.3230037e-08, 7.0170825e-04,\n",
      "        6.6037301e-06, 8.2891245e-07]], dtype=float32)>)\n",
      "sample_prediction (<tf.Tensor: shape=(1, 10), dtype=float32, numpy=\n",
      "array([[-3.245679 , -1.3934054, 10.142732 , -4.77725  , -1.6475399,\n",
      "        -7.392271 , -2.245559 , -4.2433467, -4.4259195, -6.0916286]],\n",
      "      dtype=float32)>, <tf.Tensor: shape=(1, 10), dtype=float32, numpy=\n",
      "array([[1.5327684e-06, 9.7703214e-06, 9.9997556e-01, 3.3137820e-07,\n",
      "        7.5777348e-06, 2.4245660e-08, 4.1669969e-06, 5.6519082e-07,\n",
      "        4.7087380e-07, 8.9021825e-08]], dtype=float32)>)\n",
      "sample_prediction (<tf.Tensor: shape=(1, 10), dtype=float32, numpy=\n",
      "array([[-4.372538  , -3.5135882 , 10.2274    ,  1.5598716 , -4.313187  ,\n",
      "        -9.342666  , -7.799138  ,  0.25414672, -3.1427903 , -3.380249  ]],\n",
      "      dtype=float32)>, <tf.Tensor: shape=(1, 10), dtype=float32, numpy=\n",
      "array([[4.5627917e-07, 1.0771290e-06, 9.9977654e-01, 1.7204546e-04,\n",
      "        4.8417951e-07, 3.1676111e-09, 1.4827793e-08, 4.6620193e-05,\n",
      "        1.5606421e-06, 1.2307677e-06]], dtype=float32)>)\n",
      "sample_prediction (<tf.Tensor: shape=(1, 10), dtype=float32, numpy=\n",
      "array([[-4.1474743 , -2.2313013 , 10.307719  , -0.39437908, -6.2376404 ,\n",
      "        -9.469816  , -8.866818  ,  0.80916524, -1.3388461 , -3.3377159 ]],\n",
      "      dtype=float32)>, <tf.Tensor: shape=(1, 10), dtype=float32, numpy=\n",
      "array([[5.2740074e-07, 3.5836376e-06, 9.9988842e-01, 2.2495178e-05,\n",
      "        6.5221791e-08, 2.5744080e-09, 4.7049569e-09, 7.4951757e-05,\n",
      "        8.7480730e-06, 1.1852617e-06]], dtype=float32)>)\n",
      "2\n"
     ]
    }
   ],
   "source": [
    "# model_mnist = tf.keras.models.load_model('MNISTClassifier')\n",
    "\n",
    "predictions = []\n",
    "for sample in reshaped_sample_twos:\n",
    "    sample_prediction = model_custom(sample)\n",
    "    print('sample_prediction', sample_prediction)\n",
    "    predictions.append(sample_prediction)\n",
    "#check a prediction\n",
    "print(np.argmax(predictions[1][0]))"
   ]
  },
  {
   "cell_type": "code",
   "execution_count": 38,
   "id": "972e7cca-5edb-490d-b78c-0dbb709e879c",
   "metadata": {},
   "outputs": [
    {
     "name": "stdout",
     "output_type": "stream",
     "text": [
      "(1, 64, 64, 3)\n",
      "(64, 64, 3)\n",
      "tf.Tensor(3, shape=(), dtype=uint8)\n",
      "(1, 64, 64, 3)\n"
     ]
    }
   ],
   "source": [
    "print(reshaped_sample_twos[0].shape)\n",
    "# drop first dimension (batch) and prepare for attack\n",
    "squeze_two = np.squeeze(reshaped_sample_twos[2])\n",
    "print(squeze_two.shape)\n",
    "# squeze_two = np.expand_dims(np.squeeze(reshaped_sample_twos[2]), axis=2)\n",
    "# squeze_two.shape\n",
    "x = squeze_two\n",
    "x = np.expand_dims(x, axis=0)\n",
    "x = tf.convert_to_tensor(x)\n",
    "y = y_test[35]\n",
    "y = tf.convert_to_tensor(y)\n",
    "print(y)\n",
    "print(x.shape)"
   ]
  },
  {
   "cell_type": "code",
   "execution_count": 39,
   "id": "1c4e528a-f61b-4dba-a5ff-da241f0eb454",
   "metadata": {},
   "outputs": [],
   "source": [
    "# xs = np.array([1, 2, 3])\n",
    "# xs.ndim"
   ]
  },
  {
   "cell_type": "code",
   "execution_count": 40,
   "id": "6722fe20-a20d-4411-9249-53647e542624",
   "metadata": {},
   "outputs": [],
   "source": [
    "# xs = np.array([xs])\n",
    "# xs.ndim"
   ]
  },
  {
   "cell_type": "markdown",
   "id": "13a5b3a0-82cd-4f12-8296-35056c18b70d",
   "metadata": {},
   "source": [
    "# Attack and Plot"
   ]
  },
  {
   "cell_type": "code",
   "execution_count": 39,
   "id": "4906b391-49c5-4571-9d93-b4d1185f7578",
   "metadata": {},
   "outputs": [],
   "source": [
    "def perturb_img(xs, img):\n",
    "    # print(img.shape, 'in img shape')\n",
    "    if xs.ndim < 2:\n",
    "        # if xs has a dim less than 1,\n",
    "        #add extra dim to it to make it 2\n",
    "        xs = np.array([xs])\n",
    "    tile = [len(xs)] + [1]*(xs.ndim+1)\n",
    "    imgs = np.tile(img, tile)\n",
    "    # cast xs as int type\n",
    "    xs = xs.astype(int)\n",
    "\n",
    "    for x, img in zip(xs, imgs):\n",
    "        # split x into an array of 5-tuples (pertubation pixels)\n",
    "        pixels = np.split(x, len(x)//5)\n",
    "        for pixel in pixels:\n",
    "            x_pos, y_pos, *rgb = pixel\n",
    "            img[x_pos, y_pos] = rgb\n",
    "    return imgs\n",
    "            \n",
    "        \n",
    "    \n",
    "        \n",
    "    "
   ]
  },
  {
   "cell_type": "code",
   "execution_count": 40,
   "id": "25b619b2-6c95-43f0-bb8a-d1bbba7b7785",
   "metadata": {},
   "outputs": [
    {
     "ename": "NameError",
     "evalue": "name 'x_test_46' is not defined",
     "output_type": "error",
     "traceback": [
      "\u001b[0;31m---------------------------------------------------------------------------\u001b[0m",
      "\u001b[0;31mNameError\u001b[0m                                 Traceback (most recent call last)",
      "Cell \u001b[0;32mIn[40], line 2\u001b[0m\n\u001b[1;32m      1\u001b[0m \u001b[38;5;66;03m# x_test_46.shape\u001b[39;00m\n\u001b[0;32m----> 2\u001b[0m predii \u001b[38;5;241m=\u001b[39m model_custom(np\u001b[38;5;241m.\u001b[39mexpand_dims(\u001b[43mx_test_46\u001b[49m, axis\u001b[38;5;241m=\u001b[39m\u001b[38;5;241m0\u001b[39m))[\u001b[38;5;241m1\u001b[39m]\n\u001b[1;32m      3\u001b[0m predii\n",
      "\u001b[0;31mNameError\u001b[0m: name 'x_test_46' is not defined"
     ]
    }
   ],
   "source": [
    "# x_test_46.shape\n",
    "predii = model_custom(np.expand_dims(x_test_46, axis=0))[1]\n",
    "predii"
   ]
  },
  {
   "cell_type": "markdown",
   "id": "ad36c8d7-0e84-4cbf-9a01-a375e01b0583",
   "metadata": {},
   "source": [
    "Define a function that runs several perturbed images on a given model and returns the model's confidence (probability output) in the target class, one confidence value per image. If the target class is the correct class, this will be the function that we want to minimize so that the model will be most confident in another class (which is incorrect). Otherwise, the target is an incorrect class and we will want to maximize it."
   ]
  },
  {
   "cell_type": "code",
   "execution_count": 41,
   "id": "08f7c4cc-f5e9-4658-9c28-6a8f05668c64",
   "metadata": {},
   "outputs": [],
   "source": [
    "def predict_classes(xs, img, target_class, model, minimize=True):\n",
    "    # perturb an image with the given pixel(s) x and return models prediction\n",
    "    sq_img = np.squeeze(img)\n",
    "    # print(sq_img.shape, 'img shape')\n",
    "    imgs_perturbed = perturb_img(xs, sq_img)\n",
    "    predictions = model(imgs_perturbed)[1][0][target_class]#changed 0 --> 1\n",
    "    # print('prepre', predictions)\n",
    "\n",
    "    return predictions if minimize else 1-predictions\n"
   ]
  },
  {
   "cell_type": "code",
   "execution_count": 179,
   "id": "83119a2b-3655-4a51-8777-8d6e6bf0aa22",
   "metadata": {},
   "outputs": [
    {
     "name": "stderr",
     "output_type": "stream",
     "text": [
      "Clipping input data to the valid range for imshow with RGB data ([0..1] for floats or [0..255] for integers).\n"
     ]
    },
    {
     "data": {
      "text/plain": [
       "<matplotlib.image.AxesImage at 0x369efbad0>"
      ]
     },
     "execution_count": 179,
     "metadata": {},
     "output_type": "execute_result"
    },
    {
     "data": {
      "image/png": "[encoded data removed]",
      "text/plain": [
       "<Figure size 640x480 with 1 Axes>"
      ]
     },
     "metadata": {},
     "output_type": "display_data"
    }
   ],
   "source": [
    "x_test_46 = x_test[46]\n",
    "y_test_46 = y_test[46]\n",
    "model = model_custom\n",
    "\n",
    "pixel = np.array([16, 13, 25, 48, 156])\n",
    "x_test_46_perturbed = perturb_img(pixel, x_test_46)\n",
    "x_test_46_perturbed = np.squeeze(x_test_46_perturbed)\n",
    "\n",
    "\n",
    "plt.imshow(x_test_46_perturbed)"
   ]
  },
  {
   "cell_type": "code",
   "execution_count": 44,
   "id": "25737a87-6765-4cec-a721-68afbf29736d",
   "metadata": {},
   "outputs": [
    {
     "name": "stdout",
     "output_type": "stream",
     "text": [
      "(1, 64, 64, 3)\n",
      "1/1 [==============================] - 0s 58ms/step\n",
      "prior_confidence 0.99996054\n",
      "confidence tf.Tensor(0.33537173, shape=(), dtype=float32)\n"
     ]
    }
   ],
   "source": [
    "true_class = y_test_46\n",
    "x_test_46_ = np.expand_dims(x_test_46, axis=0)\n",
    "\n",
    "print(x_test_46_.shape)\n",
    "prior_confidence = model.predict(x_test_46_)[1][0][true_class]\n",
    "confidence = predict_classes(pixel, x_test_46_, true_class, model_custom)\n",
    "print('prior_confidence', prior_confidence)\n",
    "print('confidence', confidence)\n",
    "\n",
    "\n",
    "# pert_img = confidence = predict_classes(pixel, x_test_46_, true_class, model_custom)\n",
    "# predictions = model(imgs_perturbed)[0][0]\n",
    "\n",
    "# pred = np.argmax(model(pert_img)[0])\n",
    "# print('pred', pred)\n",
    "# plt.imshow(np.squeeze(pert_img))\n",
    "\n",
    "\n",
    "# predictions = predict_classes()"
   ]
  },
  {
   "cell_type": "code",
   "execution_count": 46,
   "id": "3f17b3c1-cf1a-4281-b0ef-9dd42d955bd4",
   "metadata": {},
   "outputs": [],
   "source": [
    "def attack_success(x, img, target_class, model, targeted_attack=False, verbose=False):\n",
    "    # perturn image with given pixel(s) and get the model predictions\n",
    "    attack_image = perturb_img(x, img)\n",
    "    confidence = model(attack_image)[1][0]\n",
    "    predicted_class = np.argmax(confidence)\n",
    "    # print('inside', predicted_class)\n",
    "\n",
    "    # the function returns True if prediction is what is desired\n",
    "    # for both targeted attack (prediction matches target class)\n",
    "    # or misclasification prediction != original class\n",
    "    if verbose:\n",
    "        print(f\"Confidence: \\t {confidence[target_class]}\")\n",
    "    if ((targeted_attack and predicted_class==target_class)or \n",
    "        (not targeted_attack and predicted_class != target_class)):\n",
    "        return True"
   ]
  },
  {
   "cell_type": "code",
   "execution_count": 47,
   "id": "19938b1e-b03b-4570-a9ed-9d115a9f7248",
   "metadata": {},
   "outputs": [
    {
     "name": "stdout",
     "output_type": "stream",
     "text": [
      "(1, 64, 64, 3)\n",
      "Confidence: \t 0.001666032592765987\n",
      "prior_confidence tf.Tensor(11.285846, shape=(), dtype=float32)\n",
      "confidence True\n"
     ]
    }
   ],
   "source": [
    "true_class = y_test_46\n",
    "pixel = np.array([17, 18, 185, 36, 215])\n",
    "x_test_46_ = np.expand_dims(x_test_46, axis=0)\n",
    "\n",
    "print(x_test_46_.shape)\n",
    "prior_confidence = model(x_test_46_)[0][0][true_class]\n",
    "success = attack_success(pixel, x_test_46_, true_class, model_custom, verbose=True)\n",
    "print('prior_confidence', prior_confidence)\n",
    "print('confidence', success)"
   ]
  },
  {
   "cell_type": "code",
   "execution_count": 137,
   "id": "039716c3-fad1-4a8c-8a0d-6850d8a1dc4f",
   "metadata": {},
   "outputs": [],
   "source": [
    "# from differential_evolution import differential_evolution\n",
    "from scipy.optimize import differential_evolution"
   ]
  },
  {
   "cell_type": "code",
   "execution_count": 53,
   "id": "516f89be-7ba6-4217-884b-1eb9ca8f440f",
   "metadata": {},
   "outputs": [
    {
     "data": {
      "text/plain": [
       "(1, 64, 64, 3)"
      ]
     },
     "execution_count": 53,
     "metadata": {},
     "output_type": "execute_result"
    }
   ],
   "source": [
    "reshaped_sample_twos[0].shape"
   ]
  },
  {
   "cell_type": "code",
   "execution_count": 329,
   "id": "6025a0f4-e47a-4a69-9312-05355b23fb3d",
   "metadata": {},
   "outputs": [],
   "source": [
    "def one_pixel(img, model, target=None, pixel_count=1, maxiter=50, popsize=400, verbose=False, diff_evo=None):\n",
    "    img = np.squeeze(img)\n",
    "    true_img = np.expand_dims(img, axis=0)\n",
    "    actual_class = np.argmax(model(true_img)[1][0])\n",
    "    #change the target class based on whether this is a targeted attack or not\n",
    "    targeted_attack = target is not None\n",
    "    targeted_class = target if targeted_attack else actual_class\n",
    "    # Define bounds for a flat vector of x,y,r,g,b\n",
    "    # repeat this layout for more pixels\n",
    "\n",
    "    bounds = [(0,64),(0, 64),(0,255),(0,255),(0,255)]\n",
    "\n",
    "    # Population multiplier in terms if the size of perturbation vector x\n",
    "    popmul = max(1, popsize//len(bounds))\n",
    "\n",
    "    # format the predict/callback function for the DE\n",
    "    def predict_fn(xs):\n",
    "        return predict_classes(xs, img, targeted_class, model, target is None)\n",
    "\n",
    "    def callback_fn(x, convergence):\n",
    "        return attack_success(x, img, targeted_class, model, targeted_attack, verbose)\n",
    "\n",
    "    #Call the Scipy implementation of DE\n",
    "    attack_result = diff_evo(predict_fn, bounds, maxiter=maxiter,\n",
    "                                          popsize=popmul, recombination=0.2, atol=1, callback=callback_fn,\n",
    "                                          polish=False)\n",
    "\n",
    "    # print('almost')\n",
    "    #Calculate some useful statistics to return from this function\n",
    "    attack_image = perturb_img(attack_result.x, img)[0]\n",
    "    r_attack_img = np.expand_dims(attack_image, axis=0)\n",
    "    prior_probs = model(true_img)[0][0]\n",
    "    predicted_probs = model(r_attack_img)[0][0]\n",
    "    predicted_class = np.argmax(predicted_probs)\n",
    "    success = predicted_class != actual_class\n",
    "    cdiff = prior_probs[actual_class] - predicted_probs[actual_class]\n",
    "\n",
    "    # verbose = True\n",
    "    if verbose == True:\n",
    "        print(f'predicted_class: {predicted_class} \\t true_class: {actual_class}')\n",
    "    # attack_result =  differential_evolution(None, None)\n",
    "\n",
    "    # Show the best attempt at a solution (successful or not)\n",
    "    # helper.plot_image(attack_image, actual_class, class_names, predicted_class)\n",
    "    # results.append([model.name, pixel_count, actual_class, predicted_class, success, cdiff, prior_probs, predicted_probs, attack_result.x])\n",
    "\n",
    "    results = (attack_image, img, attack_result.x) \n",
    "    return results\n",
    "\n",
    "\n",
    "    "
   ]
  },
  {
   "cell_type": "code",
   "execution_count": 255,
   "id": "dcad8e3e-4c0b-4595-9c97-06678977ef44",
   "metadata": {},
   "outputs": [
    {
     "name": "stdout",
     "output_type": "stream",
     "text": [
      "predicted_class* 5\n",
      "predicted_class* 5\n",
      "predicted_class* 7\n",
      "predicted_class* 7\n",
      "predicted_class* 5\n",
      "predicted_class* 5\n",
      "predicted_class* 7\n",
      "predicted_class* 5\n",
      "predicted_class* 5\n",
      "predicted_class* 6\n"
     ]
    }
   ],
   "source": [
    "loop_results = []\n",
    "for img in reshaped_sample_twos:\n",
    "    from scipy.optimize import differential_evolution as diff_evo\n",
    "    pixel = 1\n",
    "    model = model_custom\n",
    "\n",
    "    cur_res = one_pixel(img, model, pixel_count=pixel, verbose=False, diff_evo=diff_evo)\n",
    "    loop_results.append(cur_res)\n",
    "    "
   ]
  },
  {
   "cell_type": "code",
   "execution_count": 271,
   "id": "943b8944-0001-4d53-8c4c-ba87e2534c0f",
   "metadata": {},
   "outputs": [
    {
     "data": {
      "text/plain": [
       "(5,\n",
       " 2,\n",
       " array([ 17.25343712,  49.94845319, 194.0796345 ,  75.68809059,\n",
       "        170.80733235]))"
      ]
     },
     "execution_count": 271,
     "metadata": {},
     "output_type": "execute_result"
    }
   ],
   "source": [
    "adv_img = loop_results[4][0]\n",
    "org_img = loop_results[0][1]\n",
    "pixels = loop_results[0][-1]\n",
    "np.argmax(model_custom(np.expand_dims(adv_img, axis=0))), np.argmax(model_custom(np.expand_dims(org_img, axis=0))), pixels\n"
   ]
  },
  {
   "cell_type": "code",
   "execution_count": 272,
   "id": "14bebdc9-63ae-4d56-a5f3-7efd744b5ffb",
   "metadata": {},
   "outputs": [
    {
     "name": "stderr",
     "output_type": "stream",
     "text": [
      "Clipping input data to the valid range for imshow with RGB data ([0..1] for floats or [0..255] for integers).\n"
     ]
    },
    {
     "data": {
      "text/plain": [
       "<matplotlib.image.AxesImage at 0x34225bcd0>"
      ]
     },
     "execution_count": 272,
     "metadata": {},
     "output_type": "execute_result"
    },
    {
     "data": {
      "image/png": "[encoded data removed]",
      "text/plain": [
       "<Figure size 640x480 with 1 Axes>"
      ]
     },
     "metadata": {},
     "output_type": "display_data"
    }
   ],
   "source": [
    "# cmap = plt.cm.LinearSegmentedColormap.from_list('my_cmap', ['red', 'blue'])\n",
    "\n",
    "plt.imshow(adv_img, cmap='coolwarm')"
   ]
  },
  {
   "cell_type": "code",
   "execution_count": 273,
   "id": "2a6557d7-c150-4d74-a753-d3f8dfcd32c9",
   "metadata": {},
   "outputs": [],
   "source": [
    "# # x_test_46 = x_test[46]\n",
    "# img = reshaped_sample_twos[0]\n",
    "# pixel = 1\n",
    "# model = model_custom\n",
    "\n",
    "# results_0 = one_pixel(img, model, pixel_count=pixel, verbose=False, diff_evo=differential_evolution)\n",
    "\n",
    "# # results = attack(image_id, model, pixel_count=pixel, verbose=False)"
   ]
  },
  {
   "cell_type": "code",
   "execution_count": 274,
   "id": "4310ed4a-183b-4189-a3dc-bc3c1c645085",
   "metadata": {},
   "outputs": [],
   "source": [
    "# adv_img = results_0[0]\n",
    "# org_img = results_0[1]\n",
    "# pixels = results_0[-1]\n",
    "# np.argmax(model_custom(np.expand_dims(adv_img, axis=0))), np.argmax(model_custom(np.expand_dims(org_img, axis=0))), pixels\n"
   ]
  },
  {
   "cell_type": "code",
   "execution_count": 247,
   "id": "8e2480e9-2220-444f-afd4-fb17d2c45486",
   "metadata": {},
   "outputs": [
    {
     "name": "stderr",
     "output_type": "stream",
     "text": [
      "Clipping input data to the valid range for imshow with RGB data ([0..1] for floats or [0..255] for integers).\n"
     ]
    },
    {
     "data": {
      "text/plain": [
       "<matplotlib.image.AxesImage at 0x370ea3150>"
      ]
     },
     "execution_count": 247,
     "metadata": {},
     "output_type": "execute_result"
    },
    {
     "data": {
      "image/png": "[encoded data removed]",
      "text/plain": [
       "<Figure size 640x480 with 1 Axes>"
      ]
     },
     "metadata": {},
     "output_type": "display_data"
    }
   ],
   "source": [
    "plt.imshow(adv_img)"
   ]
  },
  {
   "cell_type": "code",
   "execution_count": 276,
   "id": "fcbab5ce-b36d-420d-93d5-45849bfb19c3",
   "metadata": {},
   "outputs": [],
   "source": [
    "# # x_test_46 = x_test[46]\n",
    "# img = reshaped_sample_twos[8]\n",
    "# pixel = 1\n",
    "# model = model_custom\n",
    "\n",
    "# results_6 = one_pixel(img, model, pixel_count=pixel, verbose=False, diff_evo=differential_evolution)\n",
    "\n",
    "# # results = attack(image_id, model, pixel_count=pixel, verbose=False)"
   ]
  },
  {
   "cell_type": "code",
   "execution_count": 275,
   "id": "c21ccfb6-add9-4ac2-a4f4-db6648dbac14",
   "metadata": {},
   "outputs": [],
   "source": [
    "# print(results[-1])"
   ]
  },
  {
   "cell_type": "markdown",
   "id": "f5e2fc72-eec1-4d9e-bbc3-3c2fe2a3e361",
   "metadata": {},
   "source": [
    "## Batch attack"
   ]
  },
  {
   "cell_type": "markdown",
   "id": "02922adf-fafa-4e6a-a848-d7db413fad8f",
   "metadata": {},
   "source": [
    "loop_results = []\n",
    "for img in reshaped_sample_twos:\n",
    "    from scipy.optimize import differential_evolution as diff_evo\n",
    "    pixel = 1\n",
    "    model = model_custom\n",
    "\n",
    "    cur_res = one_pixel(img, model, pixel_count=pixel, verbose=False, diff_evo=diff_evo)\n",
    "    loop_results.append(cur_res)"
   ]
  },
  {
   "cell_type": "markdown",
   "id": "3fdd6248-42b6-457d-b053-7d034922a3da",
   "metadata": {},
   "source": [
    "# Batch distance measure"
   ]
  },
  {
   "cell_type": "code",
   "execution_count": 29,
   "id": "6bc49e02-4bfe-419c-a821-8dd096a451df",
   "metadata": {},
   "outputs": [],
   "source": [
    "# adv_image = np.squeeze(attack_results[0][0])\n",
    "# adv_image = np.expand_dims(adv_image, axis=2)\n",
    "# org_image = np.expand_dims(np.squeeze(reshaped_sample_twos[0]), axis=2)\n",
    "# perturbation = np.expand_dims(np.squeeze(attack_results[0][1]), axis=2)\n",
    "# org_image.shape\n",
    "# adv_image.shape"
   ]
  },
  {
   "cell_type": "code",
   "execution_count": 284,
   "id": "ef1c01c0-0d87-48e2-b939-5367892e348d",
   "metadata": {},
   "outputs": [
    {
     "data": {
      "text/plain": [
       "(5,)"
      ]
     },
     "execution_count": 284,
     "metadata": {},
     "output_type": "execute_result"
    }
   ],
   "source": [
    "loop_results[0][-1].shape"
   ]
  },
  {
   "cell_type": "code",
   "execution_count": 285,
   "id": "e2815f3c-aced-4b8d-a783-8475fd535211",
   "metadata": {},
   "outputs": [],
   "source": [
    "def batch_distance_measure(loop_results):\n",
    "    l2_norm_distance = []\n",
    "    for tup in loop_results:\n",
    "        cur_adv_img = tup[0]\n",
    "        cur_img = tup[1]\n",
    "        distance = np.linalg.norm(cur_adv_img - cur_img)\n",
    "        distance = format(distance, '.2f')\n",
    "        l2_norm_distance.append(distance)\n",
    "    return l2_norm_distance\n",
    "        "
   ]
  },
  {
   "cell_type": "code",
   "execution_count": 93,
   "id": "97cc03b7-4be2-4eae-8878-fefa2d567157",
   "metadata": {},
   "outputs": [],
   "source": [
    "# l2_norm_distance = batch_distance_measure(attack_results, reshaped_sample_twos)\n",
    "# print(l2_norm_distance)"
   ]
  },
  {
   "cell_type": "code",
   "execution_count": 286,
   "id": "23a2819b-2889-4e41-aab5-8efba003d06c",
   "metadata": {},
   "outputs": [
    {
     "name": "stdout",
     "output_type": "stream",
     "text": [
      "['268.63', '268.00', '375.41', '270.48', '232.70', '181.67', '349.51', '267.53', '311.56', '296.21']\n"
     ]
    }
   ],
   "source": [
    "l2_norm_distance = batch_distance_measure(loop_results)\n",
    "print(l2_norm_distance)"
   ]
  },
  {
   "cell_type": "markdown",
   "id": "c1d9c047-7e8d-49b2-8b6d-93978e92ccd6",
   "metadata": {},
   "source": [
    "# Visualize predictions and images"
   ]
  },
  {
   "cell_type": "code",
   "execution_count": 89,
   "id": "78b0f9d6-ce33-4deb-9846-45fef6206583",
   "metadata": {},
   "outputs": [],
   "source": [
    "# fig = plt.figure(figsize=(10, 10))\n",
    "\n",
    "# rows = 1\n",
    "# columns = 3\n",
    "\n",
    "# fig.add_subplot(rows, columns, 1)\n",
    "# plt.imshow(org_image, cmap='gray')\n",
    "# plt.axis('off')\n",
    "# plt.title(f'Original Image \\n predictions: {org_pred}')\n",
    "\n",
    "# fig.add_subplot(rows, columns, 2)\n",
    "# plt.imshow(perturbation, cmap='gray')\n",
    "# plt.axis('off')\n",
    "# plt.title(f'Pertubation\\n /Distance: {distance}')\n",
    "\n",
    "# fig.add_subplot(rows, columns, 3)\n",
    "# plt.imshow(adv_image, cmap='gray')\n",
    "# plt.axis('off')\n",
    "# plt.title(f'Adversarial Image \\n Prediction: {adv_pred}')"
   ]
  },
  {
   "cell_type": "code",
   "execution_count": 96,
   "id": "051e5cbc-90dc-4fb3-8ff3-e3e1a4aaaac3",
   "metadata": {},
   "outputs": [
    {
     "name": "stdout",
     "output_type": "stream",
     "text": [
      "1/1 [==============================] - 0s 16ms/step\n",
      "1/1 [==============================] - 0s 10ms/step\n",
      "2 5\n"
     ]
    }
   ],
   "source": [
    "predi = model_custom.predict(reshaped_sample_twos[0])\n",
    "reshaped_sample_twos[0].shape\n",
    "attack_results[0][0].shape\n",
    "predioo = model_custom.predict(attack_results[0][0])\n",
    "print(np.argmax(predi), np.argmax(predioo))"
   ]
  },
  {
   "cell_type": "code",
   "execution_count": 289,
   "id": "5644e0e1-4d3a-44ec-a0c4-faba10c11ea1",
   "metadata": {},
   "outputs": [],
   "source": [
    "def batch_visualization(loop_arr, model=None):\n",
    "    total_plots = len(loop_arr)\n",
    "    rows = total_plots\n",
    "    columns = 2\n",
    "    for idx in range(total_plots):\n",
    "        cur_org_img = loop_arr[idx][1]\n",
    "        fig = plt.figure(figsize=(10, 10))\n",
    "        org_pred = model.predict(np.expand_dims(cur_org_img, axis=0))\n",
    "        list_org_pred = list(org_pred)\n",
    "        list_org_pred = list_org_pred[1][0]\n",
    "        org_pred_cls = np.argmax(org_pred)\n",
    "        org_conf = round(list_org_pred[org_pred_cls], 1)\n",
    "        # cur_org_img = loop_arr[idx][1]\n",
    "        fig.add_subplot(rows, columns, 1)\n",
    "        # cur_org_img_sq = np.squeeze(cur_org_img)\n",
    "        plt.imshow(cur_org_img, cmap='hot')\n",
    "        plt.axis('off')\n",
    "        plt.title(f'Original Image \\n predictions: {org_pred_cls} \\n ')\n",
    "\n",
    "        # cur_dist = dist_arr[idx]\n",
    "        # fig.add_subplot(rows, columns, 2)\n",
    "        # cur_pert_img = np.squeeze(perturbation)\n",
    "        # plt.imshow(cur_pert_img, cmap='hot')\n",
    "        # plt.axis('off')\n",
    "        # plt.title(f'Pertubation\\n /Distance: {cur_dist}')\n",
    "\n",
    "        cur_adv_img = loop_arr[idx][0]\n",
    "        adv_pred = model.predict(np.expand_dims(cur_adv_img, axis=0))\n",
    "        adv_pred_cls = np.argmax(adv_pred)\n",
    "        list_adv_pred = list(adv_pred)\n",
    "        list_adv_pred = list_adv_pred[1][0]\n",
    "        adv_conf = format(list_adv_pred[adv_pred_cls], '.1f')\n",
    "        # cur_adv_img_sq = np.squeeze(cur_adv_img)\n",
    "        fig.add_subplot(rows, columns, 2)\n",
    "        plt.imshow(cur_adv_img, cmap='hot')\n",
    "        plt.axis('off')\n",
    "        plt.title(f'Adversarial Image \\n Prediction: {adv_pred_cls} \\n Confidence {adv_conf}')\n",
    "        \n",
    "    plt.show()"
   ]
  },
  {
   "cell_type": "code",
   "execution_count": 290,
   "id": "2ea07901-e00e-457f-9a3d-1210887f7742",
   "metadata": {},
   "outputs": [
    {
     "name": "stdout",
     "output_type": "stream",
     "text": [
      "1/1 [==============================] - 0s 14ms/step\n",
      "1/1 [==============================] - 0s 10ms/step\n"
     ]
    },
    {
     "name": "stderr",
     "output_type": "stream",
     "text": [
      "Clipping input data to the valid range for imshow with RGB data ([0..1] for floats or [0..255] for integers).\n"
     ]
    },
    {
     "name": "stdout",
     "output_type": "stream",
     "text": [
      "1/1 [==============================] - 0s 9ms/step\n",
      "1/1 [==============================] - 0s 8ms/step\n"
     ]
    },
    {
     "name": "stderr",
     "output_type": "stream",
     "text": [
      "Clipping input data to the valid range for imshow with RGB data ([0..1] for floats or [0..255] for integers).\n"
     ]
    },
    {
     "name": "stdout",
     "output_type": "stream",
     "text": [
      "1/1 [==============================] - 0s 8ms/step\n",
      "1/1 [==============================] - 0s 8ms/step\n"
     ]
    },
    {
     "name": "stderr",
     "output_type": "stream",
     "text": [
      "Clipping input data to the valid range for imshow with RGB data ([0..1] for floats or [0..255] for integers).\n"
     ]
    },
    {
     "name": "stdout",
     "output_type": "stream",
     "text": [
      "1/1 [==============================] - 0s 10ms/step\n",
      "1/1 [==============================] - 0s 9ms/step\n"
     ]
    },
    {
     "name": "stderr",
     "output_type": "stream",
     "text": [
      "Clipping input data to the valid range for imshow with RGB data ([0..1] for floats or [0..255] for integers).\n"
     ]
    },
    {
     "name": "stdout",
     "output_type": "stream",
     "text": [
      "1/1 [==============================] - 0s 9ms/step\n",
      "1/1 [==============================] - 0s 8ms/step\n"
     ]
    },
    {
     "name": "stderr",
     "output_type": "stream",
     "text": [
      "Clipping input data to the valid range for imshow with RGB data ([0..1] for floats or [0..255] for integers).\n"
     ]
    },
    {
     "name": "stdout",
     "output_type": "stream",
     "text": [
      "1/1 [==============================] - 0s 8ms/step\n",
      "1/1 [==============================] - 0s 7ms/step\n"
     ]
    },
    {
     "name": "stderr",
     "output_type": "stream",
     "text": [
      "Clipping input data to the valid range for imshow with RGB data ([0..1] for floats or [0..255] for integers).\n"
     ]
    },
    {
     "name": "stdout",
     "output_type": "stream",
     "text": [
      "1/1 [==============================] - 0s 8ms/step\n",
      "1/1 [==============================] - 0s 8ms/step\n"
     ]
    },
    {
     "name": "stderr",
     "output_type": "stream",
     "text": [
      "Clipping input data to the valid range for imshow with RGB data ([0..1] for floats or [0..255] for integers).\n"
     ]
    },
    {
     "name": "stdout",
     "output_type": "stream",
     "text": [
      "1/1 [==============================] - 0s 8ms/step\n",
      "1/1 [==============================] - 0s 8ms/step\n"
     ]
    },
    {
     "name": "stderr",
     "output_type": "stream",
     "text": [
      "Clipping input data to the valid range for imshow with RGB data ([0..1] for floats or [0..255] for integers).\n"
     ]
    },
    {
     "name": "stdout",
     "output_type": "stream",
     "text": [
      "1/1 [==============================] - 0s 8ms/step\n",
      "1/1 [==============================] - 0s 8ms/step\n"
     ]
    },
    {
     "name": "stderr",
     "output_type": "stream",
     "text": [
      "Clipping input data to the valid range for imshow with RGB data ([0..1] for floats or [0..255] for integers).\n"
     ]
    },
    {
     "name": "stdout",
     "output_type": "stream",
     "text": [
      "1/1 [==============================] - 0s 8ms/step\n",
      "1/1 [==============================] - 0s 8ms/step\n"
     ]
    },
    {
     "name": "stderr",
     "output_type": "stream",
     "text": [
      "Clipping input data to the valid range for imshow with RGB data ([0..1] for floats or [0..255] for integers).\n"
     ]
    },
    {
     "data": {
      "image/png": "[encoded data removed]",
      "text/plain": [
       "<Figure size 1000x1000 with 2 Axes>"
      ]
     },
     "metadata": {},
     "output_type": "display_data"
    },
    {
     "data": {
      "image/png": "[encoded data removed]",
      "text/plain": [
       "<Figure size 1000x1000 with 2 Axes>"
      ]
     },
     "metadata": {},
     "output_type": "display_data"
    },
    {
     "data": {
      "image/png": "[encoded data removed]",
      "text/plain": [
       "<Figure size 1000x1000 with 2 Axes>"
      ]
     },
     "metadata": {},
     "output_type": "display_data"
    },
    {
     "data": {
      "image/png": "[encoded data removed]",
      "text/plain": [
       "<Figure size 1000x1000 with 2 Axes>"
      ]
     },
     "metadata": {},
     "output_type": "display_data"
    },
    {
     "data": {
      "image/png": "[encoded data removed]",
      "text/plain": [
       "<Figure size 1000x1000 with 2 Axes>"
      ]
     },
     "metadata": {},
     "output_type": "display_data"
    },
    {
     "data": {
      "image/png": "[encoded data removed]",
      "text/plain": [
       "<Figure size 1000x1000 with 2 Axes>"
      ]
     },
     "metadata": {},
     "output_type": "display_data"
    },
    {
     "data": {
      "image/png": "[encoded data removed]",
      "text/plain": [
       "<Figure size 1000x1000 with 2 Axes>"
      ]
     },
     "metadata": {},
     "output_type": "display_data"
    },
    {
     "data": {
      "image/png": "[encoded data removed]",
      "text/plain": [
       "<Figure size 1000x1000 with 2 Axes>"
      ]
     },
     "metadata": {},
     "output_type": "display_data"
    },
    {
     "data": {
      "image/png": "[encoded data removed]",
      "text/plain": [
       "<Figure size 1000x1000 with 2 Axes>"
      ]
     },
     "metadata": {},
     "output_type": "display_data"
    },
    {
     "data": {
      "image/png": "[encoded data removed]",
      "text/plain": [
       "<Figure size 1000x1000 with 2 Axes>"
      ]
     },
     "metadata": {},
     "output_type": "display_data"
    }
   ],
   "source": [
    "batch_visualization(loop_results, model=model_custom)"
   ]
  },
  {
   "cell_type": "code",
   "execution_count": 174,
   "id": "11d5405d-fd79-4ac3-ad93-1a7255182f0d",
   "metadata": {},
   "outputs": [
    {
     "ename": "NameError",
     "evalue": "name 'l2_norm_distance' is not defined",
     "output_type": "error",
     "traceback": [
      "\u001b[0;31m---------------------------------------------------------------------------\u001b[0m",
      "\u001b[0;31mNameError\u001b[0m                                 Traceback (most recent call last)",
      "Cell \u001b[0;32mIn[174], line 1\u001b[0m\n\u001b[0;32m----> 1\u001b[0m batch_visualization(attack_results, reshaped_sample_twos, \u001b[43ml2_norm_distance\u001b[49m, model\u001b[38;5;241m=\u001b[39mmodel_custom)\n",
      "\u001b[0;31mNameError\u001b[0m: name 'l2_norm_distance' is not defined"
     ]
    }
   ],
   "source": [
    "batch_visualization(attack_results, reshaped_sample_twos, l2_norm_distance, model=model_custom)"
   ]
  },
  {
   "cell_type": "markdown",
   "id": "bbdc8bdd-b012-4ea7-bc3c-ba5b876350c6",
   "metadata": {},
   "source": [
    "## Model Evaluation after Perturbation"
   ]
  },
  {
   "cell_type": "code",
   "execution_count": 299,
   "id": "0de2e6a4-ce32-4d3a-938b-ada2a910fe3b",
   "metadata": {},
   "outputs": [
    {
     "data": {
      "text/plain": [
       "((2000, 64, 64, 3), (1, 64, 64, 3), (1, 64, 64, 3))"
      ]
     },
     "execution_count": 299,
     "metadata": {},
     "output_type": "execute_result"
    }
   ],
   "source": [
    "# x_test, y_train, y_test\n",
    "x_test_2000 = x_test[:2000]\n",
    "y_test_2000 = y_test[:2000]\n",
    "r_x_test_2000 = np.asanyarray([np.expand_dims(img, axis=0) for img in x_test_2000])\n",
    "x_test_2000.shape, r_x_test_2000[0].shape, reshaped_sample_twos[0].shape\n",
    "# r_x_test_2000 = np.asanyarray([np.expand_dims(img) for img in x_test_2000])"
   ]
  },
  {
   "cell_type": "markdown",
   "id": "0233f5f2-e291-4c35-a986-c90b255a0706",
   "metadata": {},
   "source": [
    "### perturb test set"
   ]
  },
  {
   "cell_type": "code",
   "execution_count": 324,
   "id": "41836826-ca96-43c7-8dd2-30adc49482bb",
   "metadata": {},
   "outputs": [],
   "source": [
    "THRESHHOLD = 0.25"
   ]
  },
  {
   "cell_type": "code",
   "execution_count": 332,
   "id": "c94e1a3d-2e55-4d1b-b1c2-20edf2d92215",
   "metadata": {},
   "outputs": [],
   "source": [
    "def perturb_test_set(test_set, threshhold, verbose=True):\n",
    "    quota = int(threshhold * len(test_set))\n",
    "    print(quota)\n",
    "    img_to_perturb = test_set[:quota]\n",
    "    \n",
    "    print(f'len(test_set): {len(test_set)}   quota: { quota}  img_to_perturb: {len(img_to_perturb)} ')\n",
    "    \n",
    "    perturbed_test_set = []\n",
    "    \n",
    "    for idx, img in enumerate(img_to_perturb):\n",
    "        print(f'{idx}/{quota}')\n",
    "        from scipy.optimize import differential_evolution as diff_evo\n",
    "        pixel = 1\n",
    "        model = model_custom\n",
    "    \n",
    "        cur_res = one_pixel(img, model, pixel_count=pixel, verbose=False, diff_evo=diff_evo)\n",
    "        perturbed_test_set.append(cur_res[0])\n",
    "    return perturb_test_set\n",
    "        "
   ]
  },
  {
   "cell_type": "code",
   "execution_count": 326,
   "id": "9018183a-f806-4197-9dfd-e7b3a69dad4a",
   "metadata": {},
   "outputs": [],
   "source": [
    "# perturbed_test_set = []\n",
    "# for img in r_x_test_2000:\n",
    "#     from scipy.optimize import differential_evolution as diff_evo\n",
    "#     pixel = 1\n",
    "#     model = model_custom\n",
    "\n",
    "#     cur_res = one_pixel(img, model, pixel_count=pixel, verbose=False, diff_evo=diff_evo)\n",
    "#     loop_results.append(cur_res[0])"
   ]
  },
  {
   "cell_type": "code",
   "execution_count": null,
   "id": "b8fceede-b49f-4dee-9554-a2e2e1fab2e5",
   "metadata": {},
   "outputs": [
    {
     "name": "stdout",
     "output_type": "stream",
     "text": [
      "500\n",
      "len(test_set): 2000   quota: 500  img_to_perturb: 500 \n",
      "0/500\n",
      "1/500\n",
      "2/500\n",
      "3/500\n",
      "4/500\n",
      "5/500\n",
      "6/500\n",
      "7/500\n",
      "8/500\n",
      "9/500\n",
      "10/500\n",
      "11/500\n",
      "12/500\n",
      "13/500\n",
      "14/500\n",
      "15/500\n",
      "16/500\n",
      "17/500\n",
      "18/500\n",
      "19/500\n",
      "20/500\n",
      "21/500\n",
      "22/500\n",
      "23/500\n",
      "24/500\n",
      "25/500\n",
      "26/500\n",
      "27/500\n",
      "28/500\n",
      "29/500\n",
      "30/500\n",
      "31/500\n",
      "32/500\n",
      "33/500\n",
      "34/500\n",
      "35/500\n",
      "36/500\n",
      "37/500\n",
      "38/500\n",
      "39/500\n",
      "40/500\n",
      "41/500\n",
      "42/500\n",
      "43/500\n",
      "44/500\n",
      "45/500\n",
      "46/500\n",
      "47/500\n",
      "48/500\n",
      "49/500\n",
      "50/500\n",
      "51/500\n",
      "52/500\n",
      "53/500\n",
      "54/500\n",
      "55/500\n",
      "56/500\n",
      "57/500\n",
      "58/500\n",
      "59/500\n",
      "60/500\n",
      "61/500\n",
      "62/500\n",
      "63/500\n",
      "64/500\n",
      "65/500\n",
      "66/500\n",
      "67/500\n",
      "68/500\n",
      "69/500\n",
      "70/500\n",
      "71/500\n",
      "72/500\n",
      "73/500\n",
      "74/500\n",
      "75/500\n",
      "76/500\n",
      "77/500\n",
      "78/500\n",
      "79/500\n",
      "80/500\n",
      "81/500\n",
      "82/500\n",
      "83/500\n",
      "84/500\n",
      "85/500\n",
      "86/500\n",
      "87/500\n",
      "88/500\n",
      "89/500\n",
      "90/500\n",
      "91/500\n",
      "92/500\n",
      "93/500\n",
      "94/500\n",
      "95/500\n",
      "96/500\n",
      "97/500\n",
      "98/500\n",
      "99/500\n",
      "100/500\n",
      "101/500\n",
      "102/500\n",
      "103/500\n",
      "104/500\n",
      "105/500\n",
      "106/500\n",
      "107/500\n",
      "108/500\n",
      "109/500\n",
      "110/500\n",
      "111/500\n",
      "112/500\n",
      "113/500\n",
      "114/500\n",
      "115/500\n",
      "116/500\n",
      "117/500\n",
      "118/500\n",
      "119/500\n",
      "120/500\n",
      "121/500\n",
      "122/500\n",
      "123/500\n",
      "124/500\n",
      "125/500\n",
      "126/500\n",
      "127/500\n",
      "128/500\n",
      "129/500\n",
      "130/500\n",
      "131/500\n",
      "132/500\n",
      "133/500\n",
      "134/500\n",
      "135/500\n",
      "136/500\n",
      "137/500\n",
      "138/500\n",
      "139/500\n",
      "140/500\n",
      "141/500\n",
      "142/500\n",
      "143/500\n",
      "144/500\n",
      "145/500\n",
      "146/500\n",
      "147/500\n",
      "148/500\n",
      "149/500\n",
      "150/500\n",
      "151/500\n",
      "152/500\n",
      "153/500\n",
      "154/500\n",
      "155/500\n",
      "156/500\n",
      "157/500\n",
      "158/500\n",
      "159/500\n",
      "160/500\n",
      "161/500\n",
      "162/500\n",
      "163/500\n",
      "164/500\n",
      "165/500\n",
      "166/500\n",
      "167/500\n",
      "168/500\n",
      "169/500\n",
      "170/500\n",
      "171/500\n",
      "172/500\n",
      "173/500\n",
      "174/500\n",
      "175/500\n",
      "176/500\n",
      "177/500\n",
      "178/500\n",
      "179/500\n",
      "180/500\n",
      "181/500\n",
      "182/500\n",
      "183/500\n",
      "184/500\n",
      "185/500\n",
      "186/500\n",
      "187/500\n",
      "188/500\n",
      "189/500\n",
      "190/500\n",
      "191/500\n",
      "192/500\n",
      "193/500\n",
      "194/500\n",
      "195/500\n",
      "196/500\n",
      "197/500\n",
      "198/500\n",
      "199/500\n",
      "200/500\n",
      "201/500\n",
      "202/500\n",
      "203/500\n",
      "204/500\n",
      "205/500\n",
      "206/500\n",
      "207/500\n",
      "208/500\n",
      "209/500\n",
      "210/500\n",
      "211/500\n",
      "212/500\n",
      "213/500\n",
      "214/500\n",
      "215/500\n",
      "216/500\n",
      "217/500\n",
      "218/500\n",
      "219/500\n",
      "220/500\n",
      "221/500\n",
      "222/500\n",
      "223/500\n",
      "224/500\n",
      "225/500\n",
      "226/500\n",
      "227/500\n",
      "228/500\n",
      "229/500\n",
      "230/500\n",
      "231/500\n",
      "232/500\n",
      "233/500\n",
      "234/500\n",
      "235/500\n",
      "236/500\n",
      "237/500\n",
      "238/500\n",
      "239/500\n",
      "240/500\n",
      "241/500\n",
      "242/500\n",
      "243/500\n",
      "244/500\n",
      "245/500\n",
      "246/500\n",
      "247/500\n",
      "248/500\n",
      "249/500\n",
      "250/500\n",
      "251/500\n",
      "252/500\n",
      "253/500\n",
      "254/500\n",
      "255/500\n",
      "256/500\n",
      "257/500\n",
      "258/500\n",
      "259/500\n",
      "260/500\n",
      "261/500\n",
      "262/500\n",
      "263/500\n",
      "264/500\n",
      "265/500\n",
      "266/500\n",
      "267/500\n",
      "268/500\n",
      "269/500\n",
      "270/500\n",
      "271/500\n"
     ]
    }
   ],
   "source": [
    "perturb_test_set(r_x_test_2000, THRESHHOLD)"
   ]
  },
  {
   "cell_type": "code",
   "execution_count": null,
   "id": "f67d1d0f-aea5-477b-a59d-7a57e4908c9f",
   "metadata": {},
   "outputs": [],
   "source": []
  }
 ],
 "metadata": {
  "kernelspec": {
   "display_name": "Python 3 (ipykernel)",
   "language": "python",
   "name": "python3"
  },
  "language_info": {
   "codemirror_mode": {
    "name": "ipython",
    "version": 3
   },
   "file_extension": ".py",
   "mimetype": "text/x-python",
   "name": "python",
   "nbconvert_exporter": "python",
   "pygments_lexer": "ipython3",
   "version": "3.11.0"
  }
 },
 "nbformat": 4,
 "nbformat_minor": 5
}
